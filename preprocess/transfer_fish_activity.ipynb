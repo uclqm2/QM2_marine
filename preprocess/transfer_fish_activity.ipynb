{
 "cells": [
  {
   "cell_type": "code",
   "execution_count": 1,
   "metadata": {},
   "outputs": [],
   "source": [
    "import numpy as np\n",
    "import pandas as pd\n",
    "import os,sys"
   ]
  },
  {
   "cell_type": "code",
   "execution_count": 2,
   "metadata": {},
   "outputs": [
    {
     "name": "stdout",
     "output_type": "stream",
     "text": [
      "['bleaching', 'fishing_activity', 'mmsi-daily-csvs-10-v2-2018', 'mmsi-daily-csvs-10-v2-2019']\n"
     ]
    }
   ],
   "source": [
    "path_data = os.path.join(os.getcwd(),os.pardir,os.pardir,'data')\n",
    "data_list = os.listdir(path_data)\n",
    "print(data_list)"
   ]
  },
  {
   "cell_type": "code",
   "execution_count": 3,
   "metadata": {},
   "outputs": [],
   "source": [
    "year = 2018\n",
    "filename = 'mmsi-daily-csvs-10-v2-' + str(year)\n",
    "fishing_data_path = os.path.join(path_data,filename)\n",
    "# encoding='ISO-8859-1' for read_csv"
   ]
  },
  {
   "cell_type": "code",
   "execution_count": 4,
   "metadata": {},
   "outputs": [],
   "source": [
    "from datetime import datetime, timedelta\n",
    "start_date = datetime(year, 1, 1)\n",
    "end_date = datetime(year, 12, 31)\n",
    "delta = timedelta(days=1)\n",
    "\n",
    "aggregated_data = pd.DataFrame()\n",
    "current_date = start_date\n",
    "while current_date <= end_date:\n",
    "    file_name = current_date.strftime('%Y-%m-%d') + '.csv'\n",
    "    file_path = os.path.join(fishing_data_path, file_name)\n",
    "    \n",
    "    if os.path.exists(file_path):\n",
    "        daily_data = pd.read_csv(file_path)\n",
    "        daily_data = daily_data[['cell_ll_lat', 'cell_ll_lon', 'fishing_hours']]\n",
    "        daily_data = daily_data[daily_data['fishing_hours'] > 0]\n",
    "        \n",
    "        # Filter for the specified latitude and longitude range\n",
    "        # daily_data = daily_data[(daily_data['cell_ll_lat'] >= -20) & (daily_data['cell_ll_lat'] <= 40) &\n",
    "        #                         (daily_data['cell_ll_lon'] >= 100) & (daily_data['cell_ll_lon'] <= 140)]\n",
    "        \n",
    "        # daily_data = daily_data[\n",
    "        #     ((daily_data['cell_ll_lat'] >= -20) & (daily_data['cell_ll_lat'] <= 40) &\n",
    "        #      (daily_data['cell_ll_lon'] >= 100) & (daily_data['cell_ll_lon'] <= 140)) |\n",
    "        #     ((daily_data['cell_ll_lat'] >= 0) & (daily_data['cell_ll_lat'] <= 40) &\n",
    "        #      (daily_data['cell_ll_lon'] >= -100) & (daily_data['cell_ll_lon'] <= -40))\n",
    "        # ]\n",
    "        \n",
    "        # If the aggregated_data DataFrame is empty, initialize it with the first filtered DataFrame\n",
    "        if aggregated_data.empty:\n",
    "            aggregated_data = daily_data\n",
    "        else:\n",
    "            aggregated_data = pd.concat([aggregated_data, daily_data])\n",
    "\n",
    "    current_date += delta\n",
    "\n",
    "aggregated_data = aggregated_data.groupby(['cell_ll_lat', 'cell_ll_lon']).sum().reset_index()\n",
    "\n"
   ]
  },
  {
   "cell_type": "code",
   "execution_count": null,
   "metadata": {},
   "outputs": [],
   "source": [
    "save_folder = os.path.join(os.getcwd(),os.pardir,os.pardir,'data','fishing_activity')\n",
    "if not os.path.exists(save_folder):\n",
    "    os.makedirs(save_folder)\n",
    "\n",
    "save_file = os.path.join(save_folder,'fishing_activity_' + str(year) + '.csv')\n",
    "aggregated_data.to_csv(save_file, index=False)"
   ]
  }
 ],
 "metadata": {
  "kernelspec": {
   "display_name": "mytorch",
   "language": "python",
   "name": "python3"
  },
  "language_info": {
   "codemirror_mode": {
    "name": "ipython",
    "version": 3
   },
   "file_extension": ".py",
   "mimetype": "text/x-python",
   "name": "python",
   "nbconvert_exporter": "python",
   "pygments_lexer": "ipython3",
   "version": "3.10.10"
  }
 },
 "nbformat": 4,
 "nbformat_minor": 2
}
