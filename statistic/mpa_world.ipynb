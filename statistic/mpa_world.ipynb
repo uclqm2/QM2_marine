{
 "cells": [
  {
   "cell_type": "code",
   "execution_count": 25,
   "metadata": {},
   "outputs": [],
   "source": [
    "import numpy as np\n",
    "import pandas as pd\n",
    "import os,sys"
   ]
  },
  {
   "cell_type": "code",
   "execution_count": 26,
   "metadata": {},
   "outputs": [],
   "source": [
    "path_data = os.path.join(os.getcwd(),os.pardir,os.pardir,'data')\n",
    "data_list = os.listdir(path_data)"
   ]
  },
  {
   "cell_type": "code",
   "execution_count": 27,
   "metadata": {},
   "outputs": [
    {
     "name": "stdout",
     "output_type": "stream",
     "text": [
      "979\n"
     ]
    }
   ],
   "source": [
    "protected_area_data_path = os.path.join(path_data,'protected_area')\n",
    "# data_list = os.listdir(protected_area_data_path)\n",
    "protected_area_data_file = os.path.join(protected_area_data_path,'NOAA_Marine_Protected_Areas_Inventory_2023.xlsx')\n",
    "protected_area_data = pd.read_excel(protected_area_data_file)\n",
    "protected_area_data = protected_area_data[['Percent Area Marine','Year Established','Longitude','Latitude']]\n",
    "print(len(protected_area_data))"
   ]
  },
  {
   "cell_type": "code",
   "execution_count": 28,
   "metadata": {},
   "outputs": [],
   "source": [
    "start_year = 2008\n",
    "year_filtered_protected_area_data = protected_area_data[protected_area_data['Year Established'] < start_year].copy()\n"
   ]
  },
  {
   "cell_type": "code",
   "execution_count": 29,
   "metadata": {},
   "outputs": [],
   "source": [
    "import pandas as pd\n",
    "\n",
    "lat_min, lat_max = -80, 80\n",
    "lon_min, lon_max = -180, 180\n",
    "# Define the bin size for latitude and longitude\n",
    "lat_bin_size = 5\n",
    "lon_bin_size = 5\n",
    "\n",
    "def calculate_bin(value, bin_size):\n",
    "    bin_center = ((value + bin_size/2) // bin_size) * bin_size\n",
    "    return bin_center\n",
    "\n",
    "lat_bins = np.arange(lat_min, lat_max + lat_bin_size, lat_bin_size)\n",
    "lon_bins = np.arange(lon_min, lon_max + lon_bin_size, lon_bin_size)\n",
    "\n",
    "# Bin the data for the entire dataset\n",
    "year_filtered_protected_area_data['lat_bin'] = pd.cut(year_filtered_protected_area_data['Latitude'], bins=lat_bins)\n",
    "year_filtered_protected_area_data['lon_bin'] = pd.cut(year_filtered_protected_area_data['Longitude'], bins=lon_bins)\n",
    "\n",
    "# Create a column to count occurrences where Percent_Bleaching > 0\n",
    "# year_filtered_protected_area_data['Percent Area Marine'] = year_filtered_protected_area_data['Percent Area Marine'] > 0\n",
    "# Group by latitude and longitude bins, then sum the 'Percent Area Marine' values\n",
    "mpa_counts = year_filtered_protected_area_data.groupby(['lat_bin', 'lon_bin'])['Percent Area Marine'].sum().reset_index(name='count')\n",
    "\n",
    "# Save the aggregated data\n",
    "mpa_counts.to_csv(os.path.join(protected_area_data_path, 'mpa_counts.csv'), index=False)\n"
   ]
  },
  {
   "cell_type": "code",
   "execution_count": 30,
   "metadata": {},
   "outputs": [],
   "source": [
    "save_fig_folder = os.path.join(os.getcwd(),os.pardir,'figures')\n",
    "if not os.path.exists(save_fig_folder):\n",
    "    os.makedirs(save_fig_folder)"
   ]
  },
  {
   "cell_type": "code",
   "execution_count": 31,
   "metadata": {},
   "outputs": [],
   "source": [
    "import matplotlib.pyplot as plt\n",
    "import pandas as pd\n",
    "import numpy as np\n",
    "\n",
    "# Sort the data by 'count' in descending order and select the top 10\n",
    "top_mpa_counts = mpa_counts.sort_values(by='count', ascending=False).head(10)\n",
    "fontsize = 24\n",
    "fontsize_title = 25\n",
    "# Plotting\n",
    "plt.figure(figsize=(40, 10))\n",
    "plt.barh(top_mpa_counts['lat_bin'].astype(str) + ', ' + top_mpa_counts['lon_bin'].astype(str), \n",
    "         top_mpa_counts['count'])\n",
    "plt.xlabel('Count', fontsize=fontsize)\n",
    "plt.ylabel('Latitude, Longitude Bins', fontsize=fontsize)\n",
    "plt.title('Top 10 Locations with Highest MPA Counts during 2008-2018', fontsize=fontsize_title)\n",
    "plt.gca().invert_yaxis()  # Invert y-axis to have the highest count at the top\n",
    "plt.tick_params(axis='both', which='major', labelsize=20)\n",
    "filename = 'top_10_locations_with_highest_mpa_counts.png'\n",
    "plt.savefig(os.path.join(save_fig_folder,filename))\n",
    "plt.show()"
   ]
  },
  {
   "cell_type": "code",
   "execution_count": 32,
   "metadata": {},
   "outputs": [],
   "source": [
    "from mpl_toolkits.basemap import Basemap\n",
    "import matplotlib.pyplot as plt\n",
    "\n",
    "# Continue from your code\n",
    "fontsize = 24\n",
    "fontsize_title = 25\n",
    "\n",
    "# Create a figure and axis\n",
    "fig, ax = plt.subplots(figsize=(12, 10))\n",
    "\n",
    "# Create a Basemap instance\n",
    "m = Basemap(projection='merc', llcrnrlat=lat_min, urcrnrlat=lat_max,\n",
    "            llcrnrlon=lon_min, urcrnrlon=lon_max, resolution='i', ax=ax)\n",
    "\n",
    "# Draw coastlines and countries\n",
    "m.drawcoastlines()\n",
    "m.drawcountries()\n",
    "\n",
    "# Get central points of the top 10 bins\n",
    "# Assuming 'top_bleaching_counts' is your DataFrame with the top 10 bins\n",
    "for idx, row in top_mpa_counts.iterrows():\n",
    "    lat_center = row['lat_bin'].mid\n",
    "    lon_center = row['lon_bin'].mid\n",
    "\n",
    "    # Convert lat and lon to map projection coordinates\n",
    "    x, y = m(lon_center, lat_center)\n",
    "\n",
    "    # Plot the point on the map\n",
    "    m.plot(x, y, color = 'blue', marker='o', markersize=10) \n",
    "\n",
    "    # Optionally, you can add a label with the count\n",
    "    plt.text(x, y, str(row['count']), fontsize=15, ha='right', va='bottom', color='red')\n",
    "\n",
    "plt.title(\"Top 10 Locations with Highest MPA Counts furing 2008-2018\", fontsize=fontsize_title)\n",
    "\n",
    "filename = os.path.join(save_fig_folder,'top10_mpa_counts.png')\n",
    "plt.savefig(filename)\n",
    "plt.show()\n"
   ]
  }
 ],
 "metadata": {
  "kernelspec": {
   "display_name": "mytorch",
   "language": "python",
   "name": "python3"
  },
  "language_info": {
   "codemirror_mode": {
    "name": "ipython",
    "version": 3
   },
   "file_extension": ".py",
   "mimetype": "text/x-python",
   "name": "python",
   "nbconvert_exporter": "python",
   "pygments_lexer": "ipython3",
   "version": "3.10.10"
  }
 },
 "nbformat": 4,
 "nbformat_minor": 2
}
