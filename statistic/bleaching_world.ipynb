{
 "cells": [
  {
   "cell_type": "code",
   "execution_count": 25,
   "metadata": {},
   "outputs": [],
   "source": [
    "import numpy as np\n",
    "import pandas as pd\n",
    "import os,sys"
   ]
  },
  {
   "cell_type": "code",
   "execution_count": 26,
   "metadata": {},
   "outputs": [],
   "source": [
    "path_data = os.path.join(os.getcwd(),os.pardir,os.pardir,'data')\n",
    "data_list = os.listdir(path_data)"
   ]
  },
  {
   "cell_type": "code",
   "execution_count": 27,
   "metadata": {},
   "outputs": [
    {
     "name": "stdout",
     "output_type": "stream",
     "text": [
      "41361\n"
     ]
    },
    {
     "name": "stderr",
     "output_type": "stream",
     "text": [
      "C:\\Users\\QWT\\AppData\\Local\\Temp\\ipykernel_21320\\2683490728.py:3: DtypeWarning: Columns (13,15,24) have mixed types. Specify dtype option on import or set low_memory=False.\n",
      "  bleaching_data = pd.read_csv(bleaching_data_file, encoding='ISO-8859-1')\n"
     ]
    }
   ],
   "source": [
    "bleaching_data_path = os.path.join(path_data,'bleaching')\n",
    "bleaching_data_file = os.path.join(bleaching_data_path,'global_bleaching_environmental.csv')\n",
    "bleaching_data = pd.read_csv(bleaching_data_file, encoding='ISO-8859-1')\n",
    "bleaching_data = bleaching_data[['Date_Year','Latitude_Degrees','Longitude_Degrees','Percent_Bleaching']]\n",
    "# print(bleaching_data.head())\n",
    "print(len(bleaching_data))"
   ]
  },
  {
   "cell_type": "code",
   "execution_count": 28,
   "metadata": {},
   "outputs": [
    {
     "name": "stdout",
     "output_type": "stream",
     "text": [
      "7411\n"
     ]
    }
   ],
   "source": [
    "start_year = 2008\n",
    "end_year = 2018\n",
    "year_filtered_bleaching_data = bleaching_data[(bleaching_data['Date_Year'] >= start_year) & (bleaching_data['Date_Year'] <= end_year)]\n",
    "lat_min, lat_max = -80, 80\n",
    "lon_min, lon_max = -180, 180\n",
    "region_filtered_bleaching_data = year_filtered_bleaching_data[(year_filtered_bleaching_data['Latitude_Degrees'] >= lat_min) & (year_filtered_bleaching_data['Latitude_Degrees'] <= lat_max) & (year_filtered_bleaching_data['Longitude_Degrees'] >= lon_min) & (year_filtered_bleaching_data['Longitude_Degrees'] <= lon_max)]\n",
    "region_filtered_bleaching_data.loc[:, 'Percent_Bleaching'] = pd.to_numeric(region_filtered_bleaching_data.loc[:, 'Percent_Bleaching'], errors='coerce')\n",
    "region_filtered_bleaching_data = region_filtered_bleaching_data.dropna(subset=['Percent_Bleaching'])\n",
    "region_filtered_bleaching_data = region_filtered_bleaching_data[region_filtered_bleaching_data['Percent_Bleaching'] > 0]\n",
    "print(len(region_filtered_bleaching_data))"
   ]
  },
  {
   "cell_type": "code",
   "execution_count": 29,
   "metadata": {},
   "outputs": [],
   "source": [
    "import pandas as pd\n",
    "\n",
    "# Define the bin size for latitude and longitude\n",
    "lat_bin_size = 5\n",
    "lon_bin_size = 5\n",
    "\n",
    "def calculate_bin(value, bin_size):\n",
    "    bin_center = ((value + bin_size/2) // bin_size) * bin_size\n",
    "    return bin_center\n",
    "\n",
    "lat_bins = np.arange(lat_min, lat_max + lat_bin_size, lat_bin_size)\n",
    "lon_bins = np.arange(lon_min, lon_max + lon_bin_size, lon_bin_size)\n",
    "\n",
    "# new_data = pd.DataFrame()\n",
    "# for year in range(start_year, end_year + 1):\n",
    "#     # Filter the data for the year\n",
    "#     bleaching_data_year = region_filtered_bleaching_data[region_filtered_bleaching_data['Date_Year'] == year].copy()\n",
    "    \n",
    "#     bleaching_data_year.loc[:, 'lat_bin'] = pd.cut(bleaching_data_year['Latitude_Degrees'], bins=lat_bins)\n",
    "#     bleaching_data_year.loc[:, 'lon_bin'] = pd.cut(bleaching_data_year['Longitude_Degrees'], bins=lon_bins)\n",
    "#     bleaching_data_year['bleaching_count'] = bleaching_data_year['Percent_Bleaching'] > 0\n",
    "    \n",
    "#     # Group by year and bins, then sum the counts of 'bleaching_count'\n",
    "#     bleaching_counts = bleaching_data_year.groupby(['Date_Year', 'lat_bin', 'lon_bin'])['bleaching_count'].sum().reset_index(name='count')\n",
    "\n",
    "#     # Add the data to the new DataFrame\n",
    "#     new_data = pd.concat([new_data, bleaching_counts], ignore_index=True)\n",
    "\n",
    "# # save the data\n",
    "# new_data.to_csv(os.path.join(bleaching_data_path,'global_bleaching_environmental_binned.csv'), index=False)\n",
    "\n",
    "# Bin the data for the entire dataset\n",
    "region_filtered_bleaching_data['lat_bin'] = pd.cut(region_filtered_bleaching_data['Latitude_Degrees'], bins=lat_bins)\n",
    "region_filtered_bleaching_data['lon_bin'] = pd.cut(region_filtered_bleaching_data['Longitude_Degrees'], bins=lon_bins)\n",
    "\n",
    "# Create a column to count occurrences where Percent_Bleaching > 0\n",
    "region_filtered_bleaching_data['bleaching_count'] = region_filtered_bleaching_data['Percent_Bleaching'] > 0\n",
    "\n",
    "# Group by latitude and longitude bins, then sum the counts of 'bleaching_count'\n",
    "bleaching_counts = region_filtered_bleaching_data.groupby(['lat_bin', 'lon_bin'])['bleaching_count'].sum().reset_index(name='count')\n",
    "\n",
    "# Save the aggregated data\n",
    "bleaching_counts.to_csv(os.path.join(bleaching_data_path, 'global_bleaching_environmental_binned.csv'), index=False)\n"
   ]
  },
  {
   "cell_type": "code",
   "execution_count": 30,
   "metadata": {},
   "outputs": [],
   "source": [
    "save_fig_folder = os.path.join(os.getcwd(),os.pardir,'figures')\n",
    "if not os.path.exists(save_fig_folder):\n",
    "    os.makedirs(save_fig_folder)"
   ]
  },
  {
   "cell_type": "code",
   "execution_count": 31,
   "metadata": {},
   "outputs": [],
   "source": [
    "# import matplotlib.pyplot as plt\n",
    "# import pandas as pd\n",
    "# import numpy as np\n",
    "\n",
    "# # Sort the data by 'count' in descending order and select the top 10\n",
    "# top_bleaching_counts = bleaching_counts.sort_values(by='count', ascending=False).head(10)\n",
    "# fontsize = 24\n",
    "# fontsize_title = 25\n",
    "# # Plotting\n",
    "# plt.figure(figsize=(40, 10))\n",
    "# plt.barh(top_bleaching_counts['lat_bin'].astype(str) + ', ' + top_bleaching_counts['lon_bin'].astype(str), \n",
    "#          top_bleaching_counts['count'])\n",
    "# plt.xlabel('Count', fontsize=fontsize)\n",
    "# plt.ylabel('Latitude, Longitude Bins', fontsize=fontsize)\n",
    "# plt.title('Top 10 Locations with Highest Bleaching Counts (2008-2018)', fontsize=fontsize_title)\n",
    "# plt.gca().invert_yaxis()  # Invert y-axis to have the highest count at the top\n",
    "# plt.tick_params(axis='both', which='major', labelsize=20)\n",
    "# filename = 'top_10_locations_with_highest_bleaching_counts.png'\n",
    "# plt.savefig(os.path.join(save_fig_folder,filename))\n",
    "# plt.show()"
   ]
  },
  {
   "cell_type": "code",
   "execution_count": 32,
   "metadata": {},
   "outputs": [],
   "source": [
    "# from mpl_toolkits.basemap import Basemap\n",
    "# import matplotlib.pyplot as plt\n",
    "\n",
    "# # Continue from your code\n",
    "# fontsize = 24\n",
    "# fontsize_title = 25\n",
    "\n",
    "# # Create a figure and axis\n",
    "# fig, ax = plt.subplots(figsize=(12, 10))\n",
    "\n",
    "# # Create a Basemap instance\n",
    "# m = Basemap(projection='merc', llcrnrlat=lat_min, urcrnrlat=lat_max,\n",
    "#             llcrnrlon=lon_min, urcrnrlon=lon_max, resolution='i', ax=ax)\n",
    "\n",
    "# # Draw coastlines and countries\n",
    "# m.drawcoastlines()\n",
    "# m.drawcountries()\n",
    "\n",
    "# # Get central points of the top 10 bins\n",
    "# # Assuming 'top_bleaching_counts' is your DataFrame with the top 10 bins\n",
    "# for idx, row in top_bleaching_counts.iterrows():\n",
    "#     lat_center = row['lat_bin'].mid\n",
    "#     lon_center = row['lon_bin'].mid\n",
    "\n",
    "#     # Convert lat and lon to map projection coordinates\n",
    "#     x, y = m(lon_center, lat_center)\n",
    "\n",
    "#     # Plot the point on the map\n",
    "#     m.plot(x, y, color = 'blue', marker='o', markersize=10) \n",
    "\n",
    "#     # Optionally, you can add a label with the count\n",
    "#     plt.text(x, y, str(row['count']), fontsize=15, ha='right', va='bottom', color='red')\n",
    "\n",
    "# plt.title(\"Top 10 Locations with Highest Bleaching Counts (2008-2018)\", fontsize=fontsize_title)\n",
    "\n",
    "# filename = os.path.join(save_fig_folder,'top10_bleaching_counts.png')\n",
    "# plt.savefig(filename)\n",
    "# plt.show()\n"
   ]
  }
 ],
 "metadata": {
  "kernelspec": {
   "display_name": "mytorch",
   "language": "python",
   "name": "python3"
  },
  "language_info": {
   "codemirror_mode": {
    "name": "ipython",
    "version": 3
   },
   "file_extension": ".py",
   "mimetype": "text/x-python",
   "name": "python",
   "nbconvert_exporter": "python",
   "pygments_lexer": "ipython3",
   "version": "3.10.10"
  }
 },
 "nbformat": 4,
 "nbformat_minor": 2
}
